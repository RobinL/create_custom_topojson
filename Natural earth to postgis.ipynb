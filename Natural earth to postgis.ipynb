{
 "cells": [
  {
   "cell_type": "code",
   "execution_count": null,
   "metadata": {
    "collapsed": false
   },
   "outputs": [],
   "source": [
    "# Grab data from natural earth\n",
    "zip_url = \"http://www.naturalearthdata.com/http//www.naturalearthdata.com/download/10m/cultural/ne_10m_admin_0_map_subunits.zip\"\n",
    "# http://ec.europa.eu/eurostat/statistics-explained/index.php/Glossary:Country_codes"
   ]
  },
  {
   "cell_type": "code",
   "execution_count": null,
   "metadata": {
    "collapsed": false
   },
   "outputs": [],
   "source": [
    "# Download the natural earth dataset, and exrtact files\n",
    "from StringIO import StringIO\n",
    "from zipfile import ZipFile\n",
    "from urllib import urlopen\n",
    "\n",
    "url = urlopen(zip_url)\n",
    "zipfile = ZipFile(StringIO(url.read()))\n",
    "\n",
    "for name in zipfile.namelist():\n",
    "    outpath = r\"natural_earth_data/\"\n",
    "    zipfile.extract(name, outpath)"
   ]
  },
  {
   "cell_type": "code",
   "execution_count": null,
   "metadata": {
    "collapsed": false
   },
   "outputs": [],
   "source": [
    "%%bash\n",
    "shp2pgsql -I -s 4326 natural_earth_data/ne_10m_admin_0_map_subunits.shp public.natural_earth_admin_subunits| psql -d postgres"
   ]
  },
  {
   "cell_type": "code",
   "execution_count": null,
   "metadata": {
    "collapsed": false
   },
   "outputs": [],
   "source": [
    "# Run a query that aggregates all units to soverign except uk\n",
    "import psycopg2\n",
    "con_string = \"host='localhost' dbname='postgres' user='postgres' password=''\"\n",
    "conn = psycopg2.connect(con_string)\n",
    "cursor = conn.cursor()\n",
    "\n",
    "import pandas as pd\n",
    "pd.options.display.max_columns = 10000\n",
    "# view table\n",
    "sql = \"select * from natural_earth_admin_subunits where  sovereignt = 'Denmark' limit 5\"\n",
    "pd.read_sql(sql,conn)"
   ]
  },
  {
   "cell_type": "code",
   "execution_count": null,
   "metadata": {
    "collapsed": false
   },
   "outputs": [],
   "source": [
    "sql = \"\"\"\n",
    "drop table if exists brexit_country_map;\n",
    "create table brexit_country_map as\n",
    "select sovereignt,geounit as name, gu_a3 as code, continent, subregion, sum(pop_est) as sum_est_pop, ST_Union(ST_snaptogrid(geom,0.0001))  as geom from natural_earth_admin_subunits \n",
    "where sovereignt = 'United Kingdom'\n",
    "group by geounit, gu_a3, continent, subregion,sovereignt\n",
    "union all\n",
    "select sovereignt,admin as name, adm0_a3 as code, continent, subregion, sum(pop_est) as sum_est_pop,  ST_Union(ST_snaptogrid(geom,0.0001))  as geom from natural_earth_admin_subunits \n",
    "where sovereignt != 'United Kingdom'\n",
    "group by admin, adm0_a3, continent, subregion,sovereignt\n",
    "\"\"\"\n",
    "conn.rollback()\n",
    "cursor.execute(sql)\n",
    "conn.commit()"
   ]
  },
  {
   "cell_type": "code",
   "execution_count": null,
   "metadata": {
    "collapsed": false
   },
   "outputs": [],
   "source": [
    "sql = \"\"\"\n",
    "select sovereignt,name,code,continent,subregion,sum_est_pop from brexit_country_map limit 5\n",
    "\"\"\"\n",
    "pd.read_sql(sql,conn)"
   ]
  },
  {
   "cell_type": "code",
   "execution_count": null,
   "metadata": {
    "collapsed": true
   },
   "outputs": [],
   "source": [
    "# Now want to add a column that includes the EU countries\n",
    "# from http://ec.europa.eu/eurostat/statistics-explained/index.php/Glossary:Country_codes\n",
    "list_of_countries = \"\"\"\n",
    "Belgium\tBE\n",
    "Greece\tEL\n",
    "Lithuania\tLT\n",
    "Portugal\tPT\n",
    "Bulgaria\tBG\n",
    "Spain\tES\n",
    "Luxembourg\tLU\n",
    "Romania\tRO\n",
    "Czech Republic\tCZ\n",
    "France\tFR\n",
    "Hungary\tHU\n",
    "Slovenia\tSI\n",
    "Denmark\tDK\n",
    "Croatia\tHR\n",
    "Malta\tMT\n",
    "Slovakia\tSK\n",
    "Germany\tDE\n",
    "Italy\tIT\n",
    "Netherlands\tNL\n",
    "Finland\tFI\n",
    "Estonia\tEE\n",
    "Cyprus\tCY\n",
    "Austria\tAT\n",
    "Sweden\tSE\n",
    "Ireland\tIE\n",
    "Latvia\tLV\n",
    "Poland\tPL\n",
    "United Kingdom\tUK\n",
    "\"\"\"\n",
    "EU_countries = pd.DataFrame([a.split(\"\\t\") for a in list_of_countries.split(\"\\n\") if a != \"\"])\n",
    "EU_countries.columns =[\"eu_country_name\", \"eu_country_code\"]"
   ]
  },
  {
   "cell_type": "code",
   "execution_count": null,
   "metadata": {
    "collapsed": false
   },
   "outputs": [],
   "source": [
    "# \n",
    "\n",
    "sql = \"\"\"\n",
    "ALTER TABLE brexit_country_map ADD COLUMN eu_country boolean ;\n",
    "\"\"\"\n",
    "cursor.execute(sql)\n",
    "conn.commit()"
   ]
  },
  {
   "cell_type": "code",
   "execution_count": null,
   "metadata": {
    "collapsed": false
   },
   "outputs": [],
   "source": [
    "c =list(EU_countries[\"eu_country_name\"])\n",
    "c = [\"'\" + a + \"'\" for a in c]\n",
    "isin_list = ', '.join(c)"
   ]
  },
  {
   "cell_type": "code",
   "execution_count": null,
   "metadata": {
    "collapsed": false
   },
   "outputs": [],
   "source": [
    "sql = \"\"\"\n",
    "UPDATE brexit_country_map  SET eu_country = True  WHERE sovereignt in ({}) and continent= 'Europe';\n",
    "\"\"\"\n",
    "cursor.execute(sql.format(isin_list))\n",
    "conn.commit()"
   ]
  },
  {
   "cell_type": "code",
   "execution_count": null,
   "metadata": {
    "collapsed": false
   },
   "outputs": [],
   "source": [
    "sql = \"\"\"\n",
    "UPDATE brexit_country_map  SET eu_country = False  WHERE not (sovereignt in ({}) and continent= 'Europe');\n",
    "\"\"\"\n",
    "cursor.execute(sql.format(isin_list))\n",
    "conn.commit()"
   ]
  },
  {
   "cell_type": "code",
   "execution_count": null,
   "metadata": {
    "collapsed": false
   },
   "outputs": [],
   "source": [
    "# Now we convert the postgis to geojson\n",
    "import psycopg2\n",
    "con_string = \"host='localhost' dbname='postgres' user='postgres' password=''\"\n",
    "conn = psycopg2.connect(con_string)\n",
    "cursor = conn.cursor()\n"
   ]
  },
  {
   "cell_type": "code",
   "execution_count": null,
   "metadata": {
    "collapsed": true
   },
   "outputs": [],
   "source": [
    "# Delete file if exists\n",
    "import os\n"
   ]
  },
  {
   "cell_type": "code",
   "execution_count": null,
   "metadata": {
    "collapsed": false
   },
   "outputs": [],
   "source": [
    "%%bash\n",
    "rm natural_earth_data/subunits.geojson\n",
    "ogr2ogr -f \"GeoJSON\" natural_earth_data/subunits.geojson  PG:\"host='localhost' port=5432 user='postgres' dbname='postgres' user='postgres' password=''\"  \"public.brexit_country_map\""
   ]
  },
  {
   "cell_type": "code",
   "execution_count": null,
   "metadata": {
    "collapsed": false
   },
   "outputs": [],
   "source": [
    "\",\".join([i + \"=\" + i.upper() for i in \"sovereignt\tname\tcode\tcontinent\tsubregion\tsum_est_pop\".split(\"\\t\")])"
   ]
  },
  {
   "cell_type": "code",
   "execution_count": null,
   "metadata": {
    "collapsed": false
   },
   "outputs": [],
   "source": [
    "%%bash\n",
    "topojson \\\n",
    "  -o /Users/robinlinacre/Documents/visualisation_projects/brexit_maps/topojson/brexit_countries.json \\\n",
    "  --id-property CODE \\\n",
    "  --simplify-proportion 0.4\\\n",
    "  --stitch-poles false \\\n",
    "  --properties name=NAME,code=CODE,continent=CONTINENT,subregion=SUBREGION,sum_est_pop=SUM_EST_POP  \\\n",
    "  -- natural_earth_data/subunits.geojson "
   ]
  },
  {
   "cell_type": "code",
   "execution_count": null,
   "metadata": {
    "collapsed": true
   },
   "outputs": [],
   "source": [
    "# Now we need to do the same with the HMCTS regions data\n",
    "zip_url = \"https://github.com/RobinL/hmcts_regions_shapefile_and_lookup/raw/master/district_borough_hmcts_regions.zip\""
   ]
  },
  {
   "cell_type": "code",
   "execution_count": null,
   "metadata": {
    "collapsed": true
   },
   "outputs": [],
   "source": [
    "# Download the natural earth dataset, and exrtact files\n",
    "\n",
    "url = urlopen(zip_url)\n",
    "zipfile = ZipFile(StringIO(url.read()))\n",
    "\n",
    "for name in zipfile.namelist():\n",
    "    outpath = r\"hmcts_regions/\"\n",
    "    zipfile.extract(name, outpath)"
   ]
  },
  {
   "cell_type": "code",
   "execution_count": null,
   "metadata": {
    "collapsed": false
   },
   "outputs": [],
   "source": [
    "%%bash\n",
    "shp2pgsql -I -s 27700 hmcts_regions/district_borough_hmcts_regions.shp public.hmcts_regions| psql -d postgres"
   ]
  },
  {
   "cell_type": "code",
   "execution_count": null,
   "metadata": {
    "collapsed": false
   },
   "outputs": [],
   "source": [
    "# Want only hmcts regions, scotland and NI\n",
    "sql = \"\"\"\n",
    "drop table if exists hmcts_regions_merged;\n",
    "\n",
    "create table hmcts_regions_merged as\n",
    "\n",
    "select hmcts as hmcts_region, st_transform(st_union(geom),4326)  from hmcts_regions\n",
    "where hmcts is not null\n",
    "group by hmcts\n",
    "union all\n",
    "\n",
    "\n",
    "select name, geom\n",
    "from brexit_country_map\n",
    "where name in ('Northern Ireland', 'Scotland')\n",
    "\n",
    "\"\"\"\n",
    "conn.rollback()\n",
    "cursor.execute(sql)\n",
    "conn.commit()"
   ]
  },
  {
   "cell_type": "code",
   "execution_count": null,
   "metadata": {
    "collapsed": false
   },
   "outputs": [],
   "source": [
    "%%bash\n",
    "rm hmcts_regions/hmcts_regions_merged.geojson\n",
    "ogr2ogr -f \"GeoJSON\" hmcts_regions/subunits.geojson  PG:\"host='localhost' port=5432 user='postgres' dbname='postgres' user='postgres' password=''\"  \"public.hmcts_regions_merged\""
   ]
  },
  {
   "cell_type": "code",
   "execution_count": null,
   "metadata": {
    "collapsed": false
   },
   "outputs": [],
   "source": [
    "%%bash\n",
    "topojson \\\n",
    "  -o /Users/robinlinacre/Documents/visualisation_projects/brexit_maps/topojson/hmcts_regions.json \\\n",
    "  --id-property CODE \\\n",
    "  --simplify-proportion 0.4\\\n",
    "  --stitch-poles false \\\n",
    "  --properties name=NAME,code=CODE,continent=CONTINENT,subregion=SUBREGION,sum_est_pop=SUM_EST_POP  \\\n",
    "  -- hmcts_regions/subunits.geojson "
   ]
  },
  {
   "cell_type": "code",
   "execution_count": null,
   "metadata": {
    "collapsed": true
   },
   "outputs": [],
   "source": []
  }
 ],
 "metadata": {
  "kernelspec": {
   "display_name": "Python 2",
   "language": "python",
   "name": "python2"
  },
  "language_info": {
   "codemirror_mode": {
    "name": "ipython",
    "version": 2
   },
   "file_extension": ".py",
   "mimetype": "text/x-python",
   "name": "python",
   "nbconvert_exporter": "python",
   "pygments_lexer": "ipython2",
   "version": "2.7.11"
  }
 },
 "nbformat": 4,
 "nbformat_minor": 0
}
